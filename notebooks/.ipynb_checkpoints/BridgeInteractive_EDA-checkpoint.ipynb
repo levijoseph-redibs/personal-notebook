{
 "cells": [
  {
   "cell_type": "code",
   "execution_count": 29,
   "metadata": {},
   "outputs": [],
   "source": [
    "# imports\n",
    "import pandas as pd\n",
    "import numpy as np\n",
    "import requests\n",
    "import json\n",
    "from sqlalchemy import create_engine"
   ]
  },
  {
   "cell_type": "code",
   "execution_count": 89,
   "metadata": {},
   "outputs": [],
   "source": [
    "# snowflake config\n",
    "## connection\n",
    "SF_USER = \"LJOSEPH\"\n",
    "SF_PASSWORD = \"<>\"\n",
    "ACCOUNT = \"zg83245.east-us-2.azure\"\n",
    "DATABASE = \"INGEST_DEV\"\n",
    "SCHEMA = \"AGG_BRIDGE\"\n",
    "WAREHOUSE = \"INGEST_DEV_WH\"\n",
    "\n",
    "## columns\n",
    "PARCELNUMBER = \"PARCELNUMBER\"\n",
    "LONGITUDE = \"LONGITUDE\"\n",
    "LATITUDE = \"LATITUDE\"\n",
    "SF_TAB = \"PROPERTY_CURRENT_TAB\"\n",
    "SF_TAB_COLS = \", \".join([PARCELNUMBER, LONGITUDE, LATITUDE])"
   ]
  },
  {
   "cell_type": "code",
   "execution_count": 90,
   "metadata": {},
   "outputs": [],
   "source": [
    "# connect to Snowflake\n",
    "engine = create_engine(\n",
    "    'snowflake://{user}:{password}@{account}/{database}/{schema}?warehouse={warehouse}'.format(\n",
    "        user=SF_USER,\n",
    "        password=SF_PASSWORD,\n",
    "        account=ACCOUNT,\n",
    "        database=DATABASE,\n",
    "        schema=SCHEMA,\n",
    "        warehouse=WAREHOUSE\n",
    "    )\n",
    ")\n",
    "\n",
    "cnxn = engine.connect()"
   ]
  },
  {
   "cell_type": "code",
   "execution_count": 92,
   "metadata": {},
   "outputs": [],
   "source": [
    "# pull all the lat/longs for listings\n",
    "## Austin\n",
    "sql_1 = \"select {} from {} where CITY = '{}' limit {}\".format(SF_TAB_COLS, SF_TAB, 'Austin', 1000)\n",
    "df_1 = pd.read_sql(\n",
    "    sql_1,\n",
    "    con=engine\n",
    ")"
   ]
  },
  {
   "cell_type": "code",
   "execution_count": 93,
   "metadata": {},
   "outputs": [],
   "source": [
    "# pull all the lat/longs for listings\n",
    "## Dallas\n",
    "sql_2 = \"select {} from {} where CITY = '{}' limit {}\".format(SF_TAB_COLS, SF_TAB, 'Dallas', 1000)\n",
    "df_2 = pd.read_sql(\n",
    "    sql_1,\n",
    "    con=engine\n",
    ")"
   ]
  },
  {
   "cell_type": "code",
   "execution_count": 94,
   "metadata": {},
   "outputs": [],
   "source": [
    "# pull all the lat/longs for listings\n",
    "## Houston\n",
    "sql_3 = \"select {} from {} where CITY = '{}' limit {}\".format(SF_TAB_COLS, SF_TAB, 'Houston', 1000)\n",
    "df_3 = pd.read_sql(\n",
    "    sql_1,\n",
    "    con=engine\n",
    ")"
   ]
  },
  {
   "cell_type": "code",
   "execution_count": 95,
   "metadata": {},
   "outputs": [
    {
     "name": "stdout",
     "output_type": "stream",
     "text": [
      "     parcelnumber           longitude           latitude\n",
      "0  01700102150000  -97.75088600000000  30.43808200000000\n",
      "1  01436009310000  -97.93451900000000  30.37065400000000\n",
      "2  01330710270000          -97.771977          30.340504\n",
      "3  02450001160000  -97.74914200000000  30.37432500000000\n",
      "4  04262106250000  -97.82174300000000         30.1814020\n"
     ]
    }
   ],
   "source": [
    "prop_df = df_1.append([df_2, df_3])\n",
    "\n",
    "assert len(prop_df) == 3000\n",
    "\n",
    "print(prop_df.head())"
   ]
  },
  {
   "cell_type": "code",
   "execution_count": 96,
   "metadata": {},
   "outputs": [
    {
     "ename": "SyntaxError",
     "evalue": "invalid syntax (<ipython-input-96-3357c0206add>, line 1)",
     "output_type": "error",
     "traceback": [
      "\u001b[0;36m  File \u001b[0;32m\"<ipython-input-96-3357c0206add>\"\u001b[0;36m, line \u001b[0;32m1\u001b[0m\n\u001b[0;31m    def evaluate_parcel(parcelnumber, token=TOKEN)\u001b[0m\n\u001b[0m                                                  ^\u001b[0m\n\u001b[0;31mSyntaxError\u001b[0m\u001b[0;31m:\u001b[0m invalid syntax\n"
     ]
    }
   ],
   "source": [
    "def evaluate_parcel(parcelnumber, token=TOKEN)\n",
    "    \n",
    "    \n",
    "\n",
    "    return evaluation"
   ]
  },
  {
   "cell_type": "code",
   "execution_count": 104,
   "metadata": {},
   "outputs": [
    {
     "name": "stdout",
     "output_type": "stream",
     "text": [
      "FOUND!!!\n"
     ]
    },
    {
     "data": {
      "text/plain": [
       "'https://api.bridgedataoutput.com/api/v2/pub/parcels/107326064/transactions'"
      ]
     },
     "execution_count": 104,
     "metadata": {},
     "output_type": "execute_result"
    }
   ],
   "source": [
    "long = \"-97.82019\"\n",
    "lat = \"30.269205\"\n",
    "\n",
    "def get_parcel_from_long_lat(long, lat, token=TOKEN):\n",
    "    long_lat = \",\".join([long,lat])\n",
    "    response = requests.get(\"https://api.bridgedataoutput.com/api/v2/pub/parcels?access_token={}&near={}\".format(token, long_lat))\n",
    "    bi_dict = json.loads(response.content.decode(\"UTF-8\"))\n",
    "    payload = bi_dict['bundle']\n",
    "    \n",
    "    for load in payload:\n",
    "        lo = load['coordinates'][0]\n",
    "        la = load['coordinates'][1]\n",
    "        \n",
    "        if (lo == float(long)) & (la == float(lat)):\n",
    "            print(\"FOUND!!!\")\n",
    "            return load['transactionsUrl']\n",
    "        else:\n",
    "            print(\"not found!!!\")\n",
    "            return None\n",
    "\n",
    "get_parcel_from_long_lat(long, lat)\n"
   ]
  },
  {
   "cell_type": "code",
   "execution_count": 108,
   "metadata": {},
   "outputs": [
    {
     "name": "stdout",
     "output_type": "stream",
     "text": [
      "['RAMPRAKASH LAKSHMI ALLURI', 'PADMAHA ALLURI', '']\n"
     ]
    }
   ],
   "source": [
    "# test bridgeport\n",
    "TOKEN = \"4ae277d665393021483c1bca8b254334\"\n",
    "\n",
    "def get_owner_from_parcel(parcelnumber, token=TOKEN):\n",
    "    response = requests.get(\"https://api.bridgedataoutput.com/api/v2/pub/parcels/{}/transactions?access_token={}\".format(parcelnumber,TOKEN))\n",
    "    bi_dict = json.loads(response.content.decode(\"UTF-8\"))\n",
    "    return bi_dict\n",
    "\n",
    "bd = get_bi_api(\"107378588\")\n",
    "payload = bd['bundle']\n",
    "print(payload[0]['buyerName'])"
   ]
  },
  {
   "cell_type": "code",
   "execution_count": 150,
   "metadata": {},
   "outputs": [
    {
     "name": "stdout",
     "output_type": "stream",
     "text": [
      "not found!!!\n",
      "not found!!!\n",
      "FOUND!!!\n",
      "not found!!!\n",
      "not found!!!\n",
      "not found!!!\n",
      "not found!!!\n",
      "not found!!!\n",
      "not found!!!\n",
      "not found!!!\n",
      "not found!!!\n",
      "not found!!!\n",
      "not found!!!\n",
      "not found!!!\n",
      "not found!!!\n",
      "not found!!!\n",
      "not found!!!\n",
      "not found!!!\n",
      "not found!!!\n",
      "not found!!!\n",
      "not found!!!\n",
      "not found!!!\n",
      "not found!!!\n",
      "FOUND!!!\n",
      "not found!!!\n",
      "FOUND!!!\n",
      "not found!!!\n",
      "not found!!!\n",
      "FOUND!!!\n",
      "not found!!!\n",
      "not found!!!\n",
      "FOUND!!!\n",
      "not found!!!\n",
      "not found!!!\n",
      "not found!!!\n",
      "not found!!!\n",
      "not found!!!\n",
      "not found!!!\n",
      "not found!!!\n",
      "not found!!!\n",
      "not found!!!\n",
      "not found!!!\n",
      "not found!!!\n",
      "not found!!!\n",
      "FOUND!!!\n",
      "not found!!!\n",
      "not found!!!\n",
      "not found!!!\n",
      "not found!!!\n",
      "not found!!!\n",
      "not found!!!\n",
      "not found!!!\n",
      "not found!!!\n",
      "not found!!!\n",
      "not found!!!\n",
      "not found!!!\n",
      "not found!!!\n",
      "FOUND!!!\n",
      "not found!!!\n",
      "not found!!!\n",
      "FOUND!!!\n",
      "not found!!!\n",
      "not found!!!\n",
      "not found!!!\n",
      "not found!!!\n",
      "not found!!!\n",
      "FOUND!!!\n",
      "FOUND!!!\n",
      "not found!!!\n",
      "not found!!!\n",
      "not found!!!\n",
      "not found!!!\n",
      "not found!!!\n",
      "not found!!!\n",
      "not found!!!\n",
      "not found!!!\n",
      "not found!!!\n",
      "not found!!!\n",
      "not found!!!\n",
      "not found!!!\n",
      "not found!!!\n",
      "FOUND!!!\n",
      "not found!!!\n",
      "not found!!!\n",
      "FOUND!!!\n",
      "not found!!!\n",
      "not found!!!\n",
      "not found!!!\n",
      "not found!!!\n",
      "not found!!!\n",
      "FOUND!!!\n",
      "not found!!!\n",
      "FOUND!!!\n",
      "not found!!!\n",
      "not found!!!\n",
      "not found!!!\n",
      "not found!!!\n",
      "not found!!!\n",
      "not found!!!\n",
      "not found!!!\n",
      "not found!!!\n",
      "not found!!!\n"
     ]
    },
    {
     "ename": "TypeError",
     "evalue": "string indices must be integers",
     "output_type": "error",
     "traceback": [
      "\u001b[0;31m---------------------------------------------------------------------------\u001b[0m",
      "\u001b[0;31mTypeError\u001b[0m                                 Traceback (most recent call last)",
      "\u001b[0;32m<ipython-input-150-cbf0bc8cbec0>\u001b[0m in \u001b[0;36m<module>\u001b[0;34m()\u001b[0m\n\u001b[1;32m      9\u001b[0m     \u001b[0mlat\u001b[0m \u001b[0;34m=\u001b[0m \u001b[0mprop\u001b[0m\u001b[0;34m[\u001b[0m\u001b[0;34m'latitude'\u001b[0m\u001b[0;34m]\u001b[0m\u001b[0;34m\u001b[0m\u001b[0m\n\u001b[1;32m     10\u001b[0m \u001b[0;34m\u001b[0m\u001b[0m\n\u001b[0;32m---> 11\u001b[0;31m     \u001b[0mresponse\u001b[0m \u001b[0;34m=\u001b[0m \u001b[0mget_parcel_from_long_lat\u001b[0m\u001b[0;34m(\u001b[0m\u001b[0mlong\u001b[0m\u001b[0;34m,\u001b[0m \u001b[0mlat\u001b[0m\u001b[0;34m)\u001b[0m\u001b[0;34m\u001b[0m\u001b[0m\n\u001b[0m\u001b[1;32m     12\u001b[0m \u001b[0;34m\u001b[0m\u001b[0m\n\u001b[1;32m     13\u001b[0m     \u001b[0mprop_owner_list\u001b[0m \u001b[0;34m=\u001b[0m \u001b[0;34m[\u001b[0m\u001b[0;34m]\u001b[0m\u001b[0;34m\u001b[0m\u001b[0m\n",
      "\u001b[0;32m<ipython-input-104-edaa29511226>\u001b[0m in \u001b[0;36mget_parcel_from_long_lat\u001b[0;34m(long, lat, token)\u001b[0m\n\u001b[1;32m      9\u001b[0m \u001b[0;34m\u001b[0m\u001b[0m\n\u001b[1;32m     10\u001b[0m     \u001b[0;32mfor\u001b[0m \u001b[0mload\u001b[0m \u001b[0;32min\u001b[0m \u001b[0mpayload\u001b[0m\u001b[0;34m:\u001b[0m\u001b[0;34m\u001b[0m\u001b[0m\n\u001b[0;32m---> 11\u001b[0;31m         \u001b[0mlo\u001b[0m \u001b[0;34m=\u001b[0m \u001b[0mload\u001b[0m\u001b[0;34m[\u001b[0m\u001b[0;34m'coordinates'\u001b[0m\u001b[0;34m]\u001b[0m\u001b[0;34m[\u001b[0m\u001b[0;36m0\u001b[0m\u001b[0;34m]\u001b[0m\u001b[0;34m\u001b[0m\u001b[0m\n\u001b[0m\u001b[1;32m     12\u001b[0m         \u001b[0mla\u001b[0m \u001b[0;34m=\u001b[0m \u001b[0mload\u001b[0m\u001b[0;34m[\u001b[0m\u001b[0;34m'coordinates'\u001b[0m\u001b[0;34m]\u001b[0m\u001b[0;34m[\u001b[0m\u001b[0;36m1\u001b[0m\u001b[0;34m]\u001b[0m\u001b[0;34m\u001b[0m\u001b[0m\n\u001b[1;32m     13\u001b[0m \u001b[0;34m\u001b[0m\u001b[0m\n",
      "\u001b[0;31mTypeError\u001b[0m: string indices must be integers"
     ]
    }
   ],
   "source": [
    "# iteratively hit free API to full down name, append to df\n",
    "prop_dict = prop_df.to_dict('index')\n",
    "\n",
    "result_list = []\n",
    "\n",
    "for index, prop in prop_dict.items():\n",
    "    parcel = prop['parcelnumber']\n",
    "    long = prop['longitude']\n",
    "    lat = prop['latitude']\n",
    "    \n",
    "    response = get_parcel_from_long_lat(long, lat)\n",
    "    \n",
    "    prop_owner_list = []\n",
    "    \n",
    "    if response:\n",
    "        response = requests.get(response + \"?access_token={}\".format(TOKEN))\n",
    "        bi_dict = json.loads(response.content.decode(\"UTF-8\"))\n",
    "        payload = bi_dict['bundle']\n",
    "        \n",
    "        match_dict = {}\n",
    "        \n",
    "        for record in payload:\n",
    "            \n",
    "            match_dict['id'] = record['id']\n",
    "            match_dict['parcel_ID'] = record['parcels'][0]['parcelID']\n",
    "            \n",
    "            buyer_name = record['buyerName']\n",
    "            \n",
    "            if type(buyer_name) is list:\n",
    "                b_name = \",\".join(buyer_name)\n",
    "            else:\n",
    "                b_name = buyer_name\n",
    "            \n",
    "            \n",
    "            \n",
    "            match_dict['buyer_name'] = b_name\n",
    "            match_dict['document_date'] = record['documentDate']\n",
    "            match_dict['full_address'] = record['parcels'][0]['full']\n",
    "            match_dict['house'] = record['parcels'][0]['house']\n",
    "            match_dict['street'] = record['parcels'][0]['street']\n",
    "            match_dict['city'] = record['parcels'][0]['city']\n",
    "            match_dict['state'] = record['parcels'][0]['state']\n",
    "            match_dict['zip'] = record['parcels'][0]['zip']\n",
    "            \n",
    "            coordinates = record['parcels'][0]['coordinates']\n",
    "            coordinate_str = \",\".join([str(i) for i in coordinates]) \n",
    "            match_dict['coordinates'] = coordinate_str\n",
    "            \n",
    "            prop_owner_list.append(match_dict)\n",
    "        \n",
    "        result_list.extend(prop_owner_list)\n",
    "        \n",
    "            \n",
    "    #ev = evaluate_parcel(parcel)\n",
    "    \n",
    "    # if not ev:\n",
    "    #     parcel = get_parcel_from_lat_long\n",
    "    \n",
    "    # if parcel:\n",
    "    #     owner = get_owner_from_parcel(parcel)\n",
    "    \n",
    "    result_dict[index] = owner\n",
    "\n",
    "print(result_dict)\n",
    "    "
   ]
  },
  {
   "cell_type": "code",
   "execution_count": 153,
   "metadata": {},
   "outputs": [
    {
     "name": "stdout",
     "output_type": "stream",
     "text": [
      "                        buyer_name  parcel_ID         id  house  \\\n",
      "10     GEORGE DOLIS,INGRID WEIGAND  141447553  525519634    708   \n",
      "11  CHARLES J KING,PATRICIA W KING  107340772  217325309  10612   \n",
      "30           VAL DEWAYNE QUINN II,  162010774  613021300    900   \n",
      "43    STAN WITHROW,JAMES D WITHROW  107526939  218294889   2450   \n",
      "48                               ,  107432107  218878953    303   \n",
      "\n",
      "           street    city state    zip           coordinates  \n",
      "10         Gibson  Austin    TX  78704  -97.755622,30.252419  \n",
      "11   Indigo Broom  Austin    TX  78733  -97.900349,30.310177  \n",
      "30  Cypress Grove  Austin    TX  78732  -97.912879,30.332657  \n",
      "43     Wickersham  Austin    TX  78741   -97.726748,30.22418  \n",
      "48           35th  Austin    TX  78705  -97.736546,30.299661  \n"
     ]
    }
   ],
   "source": [
    "df = pd.DataFrame(result_list)\n",
    "df = df[['buyer_name', 'parcel_ID', 'id', 'house', 'street', 'city', 'state', 'zip', 'coordinates']].drop_duplicates()\n",
    "\n",
    "df = df[~df['buyer_name'].isnull()]\n",
    "print(df.head())\n",
    "\n",
    "df.to_csv(\"/Users/levijoseph/Work/personal-notebook/output/BridgeInteractive_Buyer_Lookup.csv\")"
   ]
  },
  {
   "cell_type": "code",
   "execution_count": 142,
   "metadata": {},
   "outputs": [
    {
     "name": "stdout",
     "output_type": "stream",
     "text": [
      "{0: None, 1: None, 2: None, 3: None, 4: None, 5: None, 6: None, 7: None, 8: None, 9: None, 10: None, 11: None, 12: None, 13: None, 14: None, 15: None, 16: None, 17: None, 18: None, 19: None, 20: None, 21: None, 22: None, 23: None, 24: None, 25: None, 26: None, 27: None, 28: None}\n",
      "0.0\n"
     ]
    }
   ],
   "source": [
    "print(result_dict)\n",
    "d = len(result_dict)\n",
    "\n",
    "count = 0\n",
    "\n",
    "for val in result_dict.values():\n",
    "    if val:\n",
    "        count += 1\n",
    "        \n",
    "\n",
    "print(count/d)"
   ]
  },
  {
   "cell_type": "markdown",
   "metadata": {},
   "source": [
    "# Transform"
   ]
  },
  {
   "cell_type": "markdown",
   "metadata": {},
   "source": [
    "# Output"
   ]
  },
  {
   "cell_type": "code",
   "execution_count": null,
   "metadata": {},
   "outputs": [],
   "source": []
  }
 ],
 "metadata": {
  "kernelspec": {
   "display_name": "Python 3",
   "language": "python",
   "name": "python3"
  },
  "language_info": {
   "codemirror_mode": {
    "name": "ipython",
    "version": 3
   },
   "file_extension": ".py",
   "mimetype": "text/x-python",
   "name": "python",
   "nbconvert_exporter": "python",
   "pygments_lexer": "ipython3",
   "version": "3.5.6"
  }
 },
 "nbformat": 4,
 "nbformat_minor": 4
}
