{
 "cells": [
  {
   "cell_type": "code",
   "execution_count": 2,
   "metadata": {},
   "outputs": [
    {
     "name": "stderr",
     "output_type": "stream",
     "text": [
      "/usr/local/Caskroom/miniconda/base/envs/personal-notebook/lib/python3.5/site-packages/OpenSSL/crypto.py:12: CryptographyDeprecationWarning: Python 3.5 support will be dropped in the next release of cryptography. Please upgrade your Python.\n",
      "  from cryptography import x509\n"
     ]
    }
   ],
   "source": [
    "# imports\n",
    "import pandas as pd\n",
    "import numpy as np\n",
    "import requests\n",
    "import json\n",
    "from sqlalchemy import create_engine\n",
    "\n",
    "# snowflake config\n",
    "## connection\n",
    "SF_USER = \"LJOSEPH\"\n",
    "SF_PASSWORD = \"<>\"\n",
    "ACCOUNT = \"zg83245.east-us-2.azure\"\n",
    "DATABASE = \"INGEST_DEV\"\n",
    "SCHEMA = \"AGG_BRIDGE\"\n",
    "WAREHOUSE = \"INGEST_DEV_WH\""
   ]
  },
  {
   "cell_type": "code",
   "execution_count": 3,
   "metadata": {},
   "outputs": [],
   "source": [
    "# connect to Snowflake\n",
    "engine = create_engine(\n",
    "    # 'snowflake://{user}:{password}@{account}/{database}/{schema}?warehouse={warehouse}'.format(\n",
    "    'snowflake://{user}:{password}@{account}'.format(\n",
    "        user=SF_USER,\n",
    "        password=SF_PASSWORD,\n",
    "        account=ACCOUNT,\n",
    "#         database=DATABASE,\n",
    "#         schema=SCHEMA,\n",
    "#         warehouse=WAREHOUSE\n",
    "    )\n",
    ")\n",
    "\n",
    "cnxn = engine.connect()"
   ]
  },
  {
   "cell_type": "code",
   "execution_count": 4,
   "metadata": {},
   "outputs": [],
   "source": [
    "QUERY = \"\"\"\n",
    "    With ALL_JPAR_AGENTS as (\n",
    "    \n",
    "        Select\n",
    "            Agent.Member_State_ID as Agent_Member_State_ID\n",
    "            \n",
    "        FROM\n",
    "            \"INGEST_DEV\".\"REF_DATA\".\"TREC_CURRENT_TAB\" as Agent\n",
    "            \n",
    "        LEFT JOIN\n",
    "            \"INGEST_DEV\".\"REF_DATA\".\"TREC_CURRENT_TAB\" as Broker\n",
    "            ON Agent.RELATED_LICENSE_STATE_ID = Broker.MEMBER_STATE_ID\n",
    "            \n",
    "        WHERE \n",
    "            Agent.License_Status in ('Current and Active','Probation and Active') \n",
    "            AND Broker.Member_State_ID in \n",
    "                (\n",
    "                'TX|09002729', -- JPAR Dallas - National HQ + DFW)\n",
    "                'TX|09008344' -- JPAR The Sears Group (Houston Franchise)\n",
    "                    )\n",
    "    ),\n",
    "\n",
    "    ALL_JPAR_AGENT_IDS as (\n",
    "        SELECT\n",
    "            Agent_Member_State_ID\n",
    "        FROM\n",
    "            ALL_JPAR_AGENTS\n",
    "    ),\n",
    "\n",
    "    ORDERED_JPAR_BUY_SIDE_LISTINGS as (\n",
    "\n",
    "        SELECT \n",
    "            ROW_NUMBER() OVER (PARTITION BY NormalizedAddress ORDER BY close_date desc) RN,\n",
    "            NormalizedAddress,\n",
    "            listing_fact_id,\n",
    "            listing_guid   \n",
    "        FROM\n",
    "            \"DW_DEV\".\"MAIN\".\"LISTING_FACT\" \n",
    "        WHERE\n",
    "            BUYER_AGENT_STATE_ID in (SELECT * FROM ALL_JPAR_AGENT_IDS)\n",
    "            OR CO_BUYER_AGENT_STATE_ID in (SELECT * FROM ALL_JPAR_AGENT_IDS)\n",
    "\n",
    "  )\n",
    "\n",
    "  SELECT * FROM ORDERED_JPAR_BUY_SIDE_LISTINGS WHERE RN = 1\n",
    "\n",
    "\"\"\""
   ]
  },
  {
   "cell_type": "code",
   "execution_count": 5,
   "metadata": {},
   "outputs": [],
   "source": [
    "df = pd.read_sql(\n",
    "    QUERY,\n",
    "    con=engine\n",
    ")"
   ]
  },
  {
   "cell_type": "code",
   "execution_count": 6,
   "metadata": {},
   "outputs": [
    {
     "name": "stdout",
     "output_type": "stream",
     "text": [
      "36734\n"
     ]
    }
   ],
   "source": [
    "print(len(df))"
   ]
  },
  {
   "cell_type": "code",
   "execution_count": null,
   "metadata": {},
   "outputs": [],
   "source": []
  }
 ],
 "metadata": {
  "kernelspec": {
   "display_name": "Python 3",
   "language": "python",
   "name": "python3"
  },
  "language_info": {
   "codemirror_mode": {
    "name": "ipython",
    "version": 3
   },
   "file_extension": ".py",
   "mimetype": "text/x-python",
   "name": "python",
   "nbconvert_exporter": "python",
   "pygments_lexer": "ipython3",
   "version": "3.5.6"
  }
 },
 "nbformat": 4,
 "nbformat_minor": 4
}
